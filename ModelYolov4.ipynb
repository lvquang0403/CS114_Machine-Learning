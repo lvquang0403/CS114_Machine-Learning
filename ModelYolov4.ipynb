{
  "nbformat": 4,
  "nbformat_minor": 0,
  "metadata": {
    "colab": {
      "name": "ModelYolov4.ipynb",
      "provenance": [],
      "collapsed_sections": []
    },
    "kernelspec": {
      "display_name": "Python 3",
      "name": "python3"
    },
    "language_info": {
      "name": "python"
    },
    "accelerator": "GPU"
  },
  "cells": [
    {
      "cell_type": "code",
      "metadata": {
        "id": "mYmNf7T0FuYb",
        "colab": {
          "base_uri": "https://localhost:8080/"
        },
        "outputId": "3287cf43-2d04-48a7-fe08-6de962cee29d"
      },
      "source": [
        "from google.colab import drive\n",
        "drive.mount('/content/drive')"
      ],
      "execution_count": 1,
      "outputs": [
        {
          "output_type": "stream",
          "text": [
            "Mounted at /content/drive\n"
          ],
          "name": "stdout"
        }
      ]
    },
    {
      "cell_type": "code",
      "metadata": {
        "id": "ghZDTdZ2Ceqn"
      },
      "source": [
        "!rm -rf darknet\n",
        "%cd /content/gdrive/My\\ Drive\n",
        "!git clone https://github.com/AlexeyAB/darknet\n",
        "%cd /content/gdrive/My\\ Drive/darknet\n",
        "!rm -rf data\n",
        "!mkdir data"
      ],
      "execution_count": null,
      "outputs": []
    },
    {
      "cell_type": "code",
      "metadata": {
        "id": "NdR7-LzRlBzY"
      },
      "source": [
        "%cd /content/drive/MyDrive/darknet\n",
        "!gdown --id 1-1VsL-6cQHrraJv_MkiTQv6XXOxcGEFp   # yolo.data\n",
        "!gdown --id 10y0UfHvMkcbWyrdP1m1AuTbdYo2swgp5   #makefile\n"
      ],
      "execution_count": null,
      "outputs": []
    },
    {
      "cell_type": "code",
      "metadata": {
        "id": "dQadNjwyoxZp"
      },
      "source": [
        "%cd /content/drive/MyDrive/darknet/cfg\n",
        "!gdown --id 1VryJbbbqQCmcLPdDTIGnoLBJHwUMnyP- #config\n"
      ],
      "execution_count": null,
      "outputs": []
    },
    {
      "cell_type": "code",
      "metadata": {
        "id": "t0iUq_2HqY7v"
      },
      "source": [
        "%cd /content/drive/MyDrive/darknet/backup\n",
        "!gdown --id 1ueLBdR4eNRB3kgXPUtubIa7-ApflXImR #weight"
      ],
      "execution_count": null,
      "outputs": []
    },
    {
      "cell_type": "code",
      "metadata": {
        "id": "TvYA0a7XVwIS"
      },
      "source": [
        "%cd /content/drive/MyDrive/darknet/data/\n",
        "!gdown --id 1kvtTGFa_814G3Ebgiy5guisVEhRGzGD4 #data "
      ],
      "execution_count": null,
      "outputs": []
    },
    {
      "cell_type": "code",
      "metadata": {
        "id": "PBTxWXzwCEs8"
      },
      "source": [
        "!unzip \"/content/drive/MyDrive/darknet/data/img_label.zip\" -d \"/content/drive/MyDrive/darknet/data/data\""
      ],
      "execution_count": null,
      "outputs": []
    },
    {
      "cell_type": "code",
      "metadata": {
        "id": "h5TZaNA_Hr_v",
        "colab": {
          "base_uri": "https://localhost:8080/"
        },
        "outputId": "6f2a788e-4d80-4628-bcab-d63e5db796b5"
      },
      "source": [
        "%cd /content/drive/MyDrive/darknet\n",
        "\n",
        "import glob2\n",
        "import math  \n",
        "import os\n",
        "import numpy as np\n",
        "\n",
        "files = []\n",
        "for ext in [\"*.png\", \"*.jpeg\", \"*.jpg\"]:\n",
        "  image_files = glob2.glob(os.path.join(\"data/data/img_label/\", ext))\n",
        "  files += image_files\n",
        "\n",
        "nb_val = math.floor(len(files)*0.2)\n",
        "rand_idx = np.random.randint(0, len(files), nb_val)\n",
        "\n",
        "# Tạo file train.txt\n",
        "with open(\"train.txt\", \"w\") as f:\n",
        "  for idx in np.arange(len(files)):\n",
        "    if (os.path.exists(files[idx][:-3] + \"txt\")):\n",
        "      f.write(files[idx]+'\\n')\n",
        "\n",
        "# Tạo file vali.txt\n",
        "with open(\"val.txt\", \"w\") as f:\n",
        "  for idx in np.arange(len(files)):\n",
        "    if (idx in rand_idx) and (os.path.exists(files[idx][:-3] + \"txt\")):\n",
        "      f.write(files[idx]+'\\n')"
      ],
      "execution_count": null,
      "outputs": [
        {
          "output_type": "stream",
          "text": [
            "/content/drive/MyDrive/darknet\n"
          ],
          "name": "stdout"
        }
      ]
    },
    {
      "cell_type": "code",
      "metadata": {
        "id": "ZG6jpQYcIe3O",
        "colab": {
          "base_uri": "https://localhost:8080/"
        },
        "outputId": "3fb80612-d4db-48e1-cbd3-7270728c2ecd"
      },
      "source": [
        "%cd /content/gdrive/My\\ Drive/darknet\n",
        "!mkdir backup\n",
        "!echo classes=94 > yolo.data\n",
        "!echo train=train.txt >> yolo.data\n",
        "!echo valid=val.txt >> yolo.data\n",
        "!echo names=yolo.names >> yolo.data\n",
        "!echo backup=backup >> yolo.data"
      ],
      "execution_count": null,
      "outputs": [
        {
          "output_type": "stream",
          "text": [
            "[Errno 2] No such file or directory: '/content/gdrive/My Drive/darknet'\n",
            "/content/drive/MyDrive/darknet\n",
            "mkdir: cannot create directory ‘backup’: File exists\n"
          ],
          "name": "stdout"
        }
      ]
    },
    {
      "cell_type": "code",
      "metadata": {
        "id": "zUUnLVoVIhuB",
        "colab": {
          "base_uri": "https://localhost:8080/"
        },
        "outputId": "c651b597-ca6d-4a0b-8fa4-f0085e0c736f"
      },
      "source": [
        "%cd /content/drive/MyDrive/darknet\n",
        "!rm darknet\n",
        "!make"
      ],
      "execution_count": null,
      "outputs": [
        {
          "output_type": "stream",
          "text": [
            "/content/drive/MyDrive/darknet\n",
            "rm: cannot remove 'darknet': No such file or directory\n",
            "chmod +x *.sh\n",
            "g++ -std=c++11 -std=c++11 -Iinclude/ -I3rdparty/stb/include -DOPENCV `pkg-config --cflags opencv4 2> /dev/null || pkg-config --cflags opencv` -DGPU -I/usr/local/cuda/include/ -DCUDNN -DCUDNN_HALF -Wall -Wfatal-errors -Wno-unused-result -Wno-unknown-pragmas -fPIC -Ofast -DOPENCV -DGPU -DCUDNN -I/usr/local/cudnn/include -DCUDNN_HALF obj/image_opencv.o obj/http_stream.o obj/gemm.o obj/utils.o obj/dark_cuda.o obj/convolutional_layer.o obj/list.o obj/image.o obj/activations.o obj/im2col.o obj/col2im.o obj/blas.o obj/crop_layer.o obj/dropout_layer.o obj/maxpool_layer.o obj/softmax_layer.o obj/data.o obj/matrix.o obj/network.o obj/connected_layer.o obj/cost_layer.o obj/parser.o obj/option_list.o obj/darknet.o obj/detection_layer.o obj/captcha.o obj/route_layer.o obj/writing.o obj/box.o obj/nightmare.o obj/normalization_layer.o obj/avgpool_layer.o obj/coco.o obj/dice.o obj/yolo.o obj/detector.o obj/layer.o obj/compare.o obj/classifier.o obj/local_layer.o obj/swag.o obj/shortcut_layer.o obj/representation_layer.o obj/activation_layer.o obj/rnn_layer.o obj/gru_layer.o obj/rnn.o obj/rnn_vid.o obj/crnn_layer.o obj/demo.o obj/tag.o obj/cifar.o obj/go.o obj/batchnorm_layer.o obj/art.o obj/region_layer.o obj/reorg_layer.o obj/reorg_old_layer.o obj/super.o obj/voxel.o obj/tree.o obj/yolo_layer.o obj/gaussian_yolo_layer.o obj/upsample_layer.o obj/lstm_layer.o obj/conv_lstm_layer.o obj/scale_channels_layer.o obj/sam_layer.o obj/convolutional_kernels.o obj/activation_kernels.o obj/im2col_kernels.o obj/col2im_kernels.o obj/blas_kernels.o obj/crop_layer_kernels.o obj/dropout_layer_kernels.o obj/maxpool_layer_kernels.o obj/network_kernels.o obj/avgpool_layer_kernels.o -o darknet -lm -pthread `pkg-config --libs opencv4 2> /dev/null || pkg-config --libs opencv` -L/usr/local/cuda/lib64 -lcuda -lcudart -lcublas -lcurand -L/usr/local/cudnn/lib64 -lcudnn -lstdc++\n"
          ],
          "name": "stdout"
        }
      ]
    },
    {
      "cell_type": "code",
      "metadata": {
        "id": "agC0TnOTIlH-"
      },
      "source": [
        "%cd /content/gdrive/My\\ Drive/darknet\n",
        "!wget https://github.com/AlexeyAB/darknet/releases/download/darknet_yolo_v3_optimal/yolov4.conv.137"
      ],
      "execution_count": null,
      "outputs": []
    },
    {
      "cell_type": "markdown",
      "metadata": {
        "id": "TXut3VTGp_uI"
      },
      "source": [
        "Train lần đầu"
      ]
    },
    {
      "cell_type": "code",
      "metadata": {
        "id": "E__TWl7NInpO"
      },
      "source": [
        "%cd /content/drive/MyDrive/darknet\n",
        "!./darknet detector train yolo.data cfg/yolov4-custom.cfg yolov4.conv.137 -dont_show -map"
      ],
      "execution_count": null,
      "outputs": []
    },
    {
      "cell_type": "markdown",
      "metadata": {
        "id": "rsBV5TnLqCPq"
      },
      "source": [
        "Train bổ sung"
      ]
    },
    {
      "cell_type": "code",
      "metadata": {
        "id": "Y-zkrtfC1L5_"
      },
      "source": [
        "%cd /content/drive/MyDrive/darknet\n",
        "!./darknet detector train yolo.data cfg/yolov4-custom.cfg /content/drive/MyDrive/darknet/backup/yolov4-custom_last.weights -dont_show - map"
      ],
      "execution_count": null,
      "outputs": []
    }
  ]
}